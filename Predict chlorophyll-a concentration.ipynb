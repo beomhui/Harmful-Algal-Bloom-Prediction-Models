{
 "cells": [
  {
   "cell_type": "code",
   "execution_count": null,
   "id": "863ff262",
   "metadata": {},
   "outputs": [],
   "source": [
    "# Import packages\n",
    "\n",
    "import pandas as pd\n",
    "import numpy as np\n",
    "import sys\n",
    "from keras.models import load_model\n",
    "from sklearn.metrics import mean_squared_error\n",
    "from math import sqrt\n",
    "import matplotlib.pyplot as plt\n",
    "import statsmodels.api as sm"
   ]
  },
  {
   "cell_type": "code",
   "execution_count": null,
   "id": "37747fc7",
   "metadata": {},
   "outputs": [],
   "source": [
    "# Define function\n",
    "\n",
    "def look_back(X, a):\n",
    "    X_lb = np.zeros((len(X)- 29*a , a, 12))\n",
    "    for i in range(len(X) - 29 * a):\n",
    "        for j in range(a):\n",
    "            X_lb[i, j] = X[i+(j*29)]\n",
    "    X_lb = X_lb.reshape(int(len(X)/29) - a, 29, a, 12)\n",
    "    Y_lb = X[a*29:, 7]\n",
    "    Y_lb = Y_lb.reshape(int(len(X)/29) - a, 29, 1)\n",
    "    return X_lb, Y_lb\n",
    "\n",
    "def division(data):\n",
    "    train_size = int(len(data)*0.6)\n",
    "    val_size = int(len(data)*0.8)\n",
    "    data_train = data[0:train_size]\n",
    "    data_val = data[train_size:val_size]\n",
    "    data_test = data[val_size:len(data)]\n",
    "    return data_train, data_val, data_test"
   ]
  },
  {
   "cell_type": "code",
   "execution_count": null,
   "id": "2114c7bc",
   "metadata": {},
   "outputs": [],
   "source": [
    "# Names of water-quality stations\n",
    "\n",
    "stations = ['Goryeong','Naju', 'Nam River', 'Neungseo', 'Dalcheon', 'Lake Daecheong', 'Dogae', 'Lake Dongbok','Bokhacheon', 'Sinam', 'Andong Dam downstream', 'Yangpyeong', 'Yeoju', 'Lake Okjeong', 'Lake Yongdam', 'Yongbong', 'Uchi', 'Yugucheon', 'Lake Uiam', 'Jang-gye', 'Jeokpo', 'Lake Juam', 'Jiseokcheon', 'Cheongam', 'Chilgok', 'Lake Tamjin', 'Poongyang', 'Hyeondo', 'Hoesang']"
   ]
  },
  {
   "cell_type": "code",
   "execution_count": null,
   "id": "5e452644",
   "metadata": {},
   "outputs": [],
   "source": [
    "# create the data about best time step 5\n",
    "\n",
    "df = pd.read_csv('./data.csv', encoding='ms949')\n",
    "\n",
    "ts = 5\n",
    "\n",
    "train = df[:641*29]                    \n",
    "validation = df[len(train):1006*29]    \n",
    "test = df[len(train)+len(validation):] \n",
    "\n",
    "X_train, Y_train = look_back(train.values, ts)\n",
    "Y_train = Y_train.reshape(len(Y_train), 29, 1, 1)\n",
    "\n",
    "X_val, Y_val = look_back(validation.values, ts)\n",
    "Y_val = Y_val.reshape(len(Y_val), 29, 1, 1)\n",
    "\n",
    "X_test, Y_test = look_back(test.values, ts)\n",
    "Y_test = Y_test.reshape(len(Y_test), 29, 1, 1)"
   ]
  },
  {
   "cell_type": "code",
   "execution_count": null,
   "id": "1381aa6f",
   "metadata": {},
   "outputs": [],
   "source": [
    "model = load_model('./CNN_5.h5')\n",
    "y_predicted = model.predict(X_test)"
   ]
  },
  {
   "cell_type": "code",
   "execution_count": null,
   "id": "263153e0",
   "metadata": {},
   "outputs": [],
   "source": [
    "# observed values of 29 water-quality monitoring stations respectively\n",
    "\n",
    "\n",
    "mod = sys.modules[__name__]\n",
    "\n",
    "for i,name in enumerate(stations):\n",
    "    data = Y_test[:, i, :, :]\n",
    "    data = data.reshape(-1, 1)\n",
    "    setattr(mod, 'real_{}'.format(name), data)\n",
    "\n",
    "for i,name in enumerate(stations):\n",
    "    data = y_predicted[:, i, :, :]\n",
    "    data = data.reshape(-1, 1)\n",
    "    setattr(mod, 'pred_{}'.format(name), data)"
   ]
  },
  {
   "cell_type": "code",
   "execution_count": null,
   "id": "c24ddd8f",
   "metadata": {},
   "outputs": [],
   "source": [
    "rmse_lst = []\n",
    "r2_lst = []\n",
    "\n",
    "i = 0\n",
    "for name in stations:\n",
    "    y_real_station = getattr(mod,  'real_{}'.format(name))\n",
    "    y_pred_station = getattr(mod,  'pred_{}'.format(name))\n",
    "    \n",
    "    raw= {'Observed': list(y_real_station), 'Predicted': list(y_pred_station)}\n",
    "    rr = pd.DataFrame(raw)\n",
    "    reg = sm.OLS.from_formula(\"Observed ~ Predicted\",rr).fit()\n",
    "    \n",
    "    rmse = round(sqrt(mean_squared_error(y_real_station, y_pred_station)), 3)\n",
    "    r2 = round(reg.rsquared, 3)\n",
    "    \n",
    "    rmse_lst.append(rmse)\n",
    "    r2_lst.append(r2)\n",
    "    \n",
    "    plt.figure(figsize=(10, 7))\n",
    "    plt.title('{}'.format(eng_stations[i]))\n",
    "    plt.plot(y_real_station, label='Observed')\n",
    "    plt.plot(y_pred_station, label='Predict')\n",
    "    plt.ylabel('Chlorophyll-a', fontsize=20)\n",
    "    plt.xlabel('Days', fontsize=20)\n",
    "    plt.legend()\n",
    "    plt.savefig('./plot_{}.png'.format(name))\n",
    "    plt.show()\n",
    "    i += 1"
   ]
  }
 ],
 "metadata": {
  "kernelspec": {
   "display_name": "Python [conda env:tf113]",
   "language": "python",
   "name": "conda-env-tf113-py"
  },
  "language_info": {
   "codemirror_mode": {
    "name": "ipython",
    "version": 3
   },
   "file_extension": ".py",
   "mimetype": "text/x-python",
   "name": "python",
   "nbconvert_exporter": "python",
   "pygments_lexer": "ipython3",
   "version": "3.6.13"
  }
 },
 "nbformat": 4,
 "nbformat_minor": 5
}
